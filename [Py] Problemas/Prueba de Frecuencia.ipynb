{
 "cells": [
  {
   "cell_type": "markdown",
   "metadata": {},
   "source": [
    "## Numeros Primos"
   ]
  },
  {
   "cell_type": "code",
   "execution_count": 210,
   "metadata": {},
   "outputs": [],
   "source": [
    "import numpy as np\n",
    "M = 12203\n",
    "A =  110\n",
    "X = 1\n",
    "temp = 0\n",
    "contador_zanjas_primos = np.ones(10)*-2\n",
    "zanjas_primos = np.zeros((10,9))    "
   ]
  },
  {
   "cell_type": "code",
   "execution_count": 211,
   "metadata": {
    "scrolled": true
   },
   "outputs": [
    {
     "name": "stderr",
     "output_type": "stream",
     "text": [
      "/op/anaconda3/lib/python3.6/site-packages/ipykernel/__main__.py:15: VisibleDeprecationWarning: using a non-integer number instead of an integer will result in an error in the future\n"
     ]
    }
   ],
   "source": [
    "for j in range(10000):\n",
    "    X = X * A % M\n",
    "    Frac = str(X / M)\n",
    "    for i in Frac[2:15]:\n",
    "        aux = contador_zanjas_primos!=-2\n",
    "        contador_zanjas_primos = contador_zanjas_primos+aux*1\n",
    "              \n",
    "        if(contador_zanjas_primos[int(i)]==-2): \n",
    "            contador_zanjas_primos[int(i)] += 1\n",
    "        \n",
    "        else:\n",
    "            temp, contador_zanjas_primos[int(i)] = contador_zanjas_primos[int(i)], -1\n",
    "            if(temp >=8):\n",
    "                temp = 8\n",
    "            zanjas_primos[int(i)][temp] += 1\n",
    "                "
   ]
  },
  {
   "cell_type": "code",
   "execution_count": 212,
   "metadata": {},
   "outputs": [
    {
     "data": {
      "text/plain": [
       "array([[ 1306.,  1178.,  1050.,   955.,   869.,   756.,   763.,   590.,\n",
       "         5564.],\n",
       "       [ 1280.,  1139.,   997.,   961.,   823.,   773.,   781.,   594.,\n",
       "         5589.],\n",
       "       [ 1289.,  1144.,  1055.,   932.,   946.,   776.,   710.,   535.,\n",
       "         5544.],\n",
       "       [ 1304.,  1127.,  1072.,   913.,   843.,   783.,   771.,   589.,\n",
       "         5551.],\n",
       "       [ 1293.,  1141.,  1045.,   965.,   879.,   745.,   733.,   673.,\n",
       "         5561.],\n",
       "       [ 1310.,  1162.,  1048.,   958.,   874.,   741.,   713.,   635.,\n",
       "         5522.],\n",
       "       [ 1324.,  1186.,  1079.,   920.,   845.,   796.,   769.,   592.,\n",
       "         5586.],\n",
       "       [ 1311.,  1161.,  1083.,   938.,   920.,   775.,   744.,   566.,\n",
       "         5566.],\n",
       "       [ 1311.,  1173.,  1005.,   967.,   870.,   777.,   779.,   596.,\n",
       "         5560.],\n",
       "       [ 1293.,  1121.,  1073.,   946.,   869.,   743.,   735.,   574.,\n",
       "         5587.]])"
      ]
     },
     "execution_count": 212,
     "metadata": {},
     "output_type": "execute_result"
    }
   ],
   "source": [
    "zanjas_primos"
   ]
  },
  {
   "cell_type": "code",
   "execution_count": 213,
   "metadata": {},
   "outputs": [],
   "source": [
    "FO_primos = sum(zanjas_primos)"
   ]
  },
  {
   "cell_type": "code",
   "execution_count": 214,
   "metadata": {},
   "outputs": [
    {
     "data": {
      "text/plain": [
       "array([ 13021.,  11532.,  10507.,   9455.,   8738.,   7665.,   7498.,\n",
       "         5944.,  55630.])"
      ]
     },
     "execution_count": 214,
     "metadata": {},
     "output_type": "execute_result"
    }
   ],
   "source": [
    "FO_primos"
   ]
  },
  {
   "cell_type": "code",
   "execution_count": 220,
   "metadata": {},
   "outputs": [
    {
     "data": {
      "text/plain": [
       "129990.0"
      ]
     },
     "execution_count": 220,
     "metadata": {},
     "output_type": "execute_result"
    }
   ],
   "source": [
    "sumator = sum(FO_primos)\n",
    "sumator"
   ]
  },
  {
   "cell_type": "code",
   "execution_count": 221,
   "metadata": {},
   "outputs": [],
   "source": [
    "FE_primos = []\n",
    "for i in range(9):\n",
    "    if(i==8):\n",
    "        FE_primos.append(sumator*(0.9)**(i))\n",
    "    else:\n",
    "        FE_primos.append(sumator*(0.1)*(0.9)**(i))"
   ]
  },
  {
   "cell_type": "code",
   "execution_count": 222,
   "metadata": {
    "scrolled": true
   },
   "outputs": [
    {
     "data": {
      "text/plain": [
       "[12999.0,\n",
       " 11699.1,\n",
       " 10529.190000000001,\n",
       " 9476.2710000000006,\n",
       " 8528.6439000000009,\n",
       " 7675.7795100000012,\n",
       " 6908.201559000001,\n",
       " 6217.3814031000011,\n",
       " 55956.432627900016]"
      ]
     },
     "execution_count": 222,
     "metadata": {},
     "output_type": "execute_result"
    }
   ],
   "source": [
    "FE_primos"
   ]
  },
  {
   "cell_type": "code",
   "execution_count": 223,
   "metadata": {},
   "outputs": [],
   "source": [
    "chi_primos = sum(((FE_primos - FO_primos) ** 2)/FE_primos)"
   ]
  },
  {
   "cell_type": "code",
   "execution_count": 219,
   "metadata": {},
   "outputs": [
    {
     "data": {
      "text/plain": [
       "447460.40848344454"
      ]
     },
     "execution_count": 219,
     "metadata": {},
     "output_type": "execute_result"
    }
   ],
   "source": [
    "chi_primos"
   ]
  },
  {
   "cell_type": "markdown",
   "metadata": {},
   "source": [
    "## Rutina del Sistema"
   ]
  },
  {
   "cell_type": "code",
   "execution_count": 224,
   "metadata": {},
   "outputs": [],
   "source": [
    "import random\n",
    "\n",
    "temp = 0\n",
    "\n",
    "contador_zanjas_rutina = np.ones(10)*-2\n",
    "zanjas_rutina = np.zeros((10,9)) "
   ]
  },
  {
   "cell_type": "code",
   "execution_count": 225,
   "metadata": {},
   "outputs": [
    {
     "name": "stderr",
     "output_type": "stream",
     "text": [
      "/op/anaconda3/lib/python3.6/site-packages/ipykernel/__main__.py:14: VisibleDeprecationWarning: using a non-integer number instead of an integer will result in an error in the future\n"
     ]
    }
   ],
   "source": [
    "for j in range(10000):\n",
    "    Frac = str(random.random())\n",
    "    for i in Frac[2:15]:\n",
    "        aux = contador_zanjas_rutina!=-2\n",
    "        contador_zanjas_rutina = contador_zanjas_rutina+aux*1\n",
    "              \n",
    "        if(contador_zanjas_rutina[int(i)]==-2): \n",
    "            contador_zanjas_rutina[int(i)] += 1\n",
    "        \n",
    "        else:\n",
    "            temp, contador_zanjas_rutina[int(i)] = contador_zanjas_rutina[int(i)], -1\n",
    "            if(temp >=8):\n",
    "                temp = 8\n",
    "            zanjas_rutina[int(i)][temp] += 1               \n",
    "             "
   ]
  },
  {
   "cell_type": "code",
   "execution_count": 226,
   "metadata": {},
   "outputs": [
    {
     "data": {
      "text/plain": [
       "array([[ 1287.,  1109.,  1007.,   967.,   882.,   805.,   726.,   671.,\n",
       "         5527.],\n",
       "       [ 1233.,  1151.,  1088.,   910.,   845.,   744.,   714.,   583.,\n",
       "         5584.],\n",
       "       [ 1339.,  1153.,  1052.,   982.,   865.,   724.,   700.,   587.,\n",
       "         5603.],\n",
       "       [ 1250.,  1183.,  1025.,  1003.,   877.,   743.,   651.,   590.,\n",
       "         5599.],\n",
       "       [ 1333.,  1157.,  1076.,   934.,   870.,   739.,   716.,   590.,\n",
       "         5619.],\n",
       "       [ 1327.,  1197.,  1003.,   964.,   829.,   818.,   734.,   626.,\n",
       "         5598.],\n",
       "       [ 1332.,  1242.,  1058.,   895.,   837.,   776.,   761.,   658.,\n",
       "         5631.],\n",
       "       [ 1261.,  1163.,   987.,   897.,   880.,   770.,   681.,   632.,\n",
       "         5593.],\n",
       "       [ 1338.,  1165.,  1138.,   952.,   858.,   746.,   718.,   622.,\n",
       "         5618.],\n",
       "       [ 1253.,  1065.,  1061.,   941.,   873.,   772.,   726.,   589.,\n",
       "         5612.]])"
      ]
     },
     "execution_count": 226,
     "metadata": {},
     "output_type": "execute_result"
    }
   ],
   "source": [
    "zanjas_rutina"
   ]
  },
  {
   "cell_type": "code",
   "execution_count": 227,
   "metadata": {},
   "outputs": [
    {
     "data": {
      "text/plain": [
       "array([ 12953.,  11585.,  10495.,   9445.,   8616.,   7637.,   7127.,\n",
       "         6148.,  55984.])"
      ]
     },
     "execution_count": 227,
     "metadata": {},
     "output_type": "execute_result"
    }
   ],
   "source": [
    "FO_rutina = sum(zanjas_rutina)\n",
    "FO_rutina"
   ]
  },
  {
   "cell_type": "code",
   "execution_count": 228,
   "metadata": {},
   "outputs": [
    {
     "name": "stdout",
     "output_type": "stream",
     "text": [
      "[12999.0, 11699.1, 10529.190000000001, 9476.2710000000006, 8528.6439000000009, 7675.7795100000012, 6908.201559000001, 6217.3814031000011, 55956.432627900016]\n"
     ]
    }
   ],
   "source": [
    "FE_rutina = []\n",
    "for i in range(9):\n",
    "    if(i==8):\n",
    "        FE_rutina.append(sumator*(0.9)**(i))\n",
    "    else:\n",
    "        FE_rutina.append(sumator*(0.1)*(0.9)**(i))\n",
    "\n",
    "print(FE_rutina)\n",
    "    \n",
    "chi_rutina = sum(((FE_rutina - FO_rutina) ** 2)/FE_rutina)"
   ]
  },
  {
   "cell_type": "code",
   "execution_count": 229,
   "metadata": {},
   "outputs": [
    {
     "data": {
      "text/plain": [
       "10.298150569298066"
      ]
     },
     "execution_count": 229,
     "metadata": {},
     "output_type": "execute_result"
    }
   ],
   "source": [
    "chi_rutina"
   ]
  },
  {
   "cell_type": "code",
   "execution_count": 230,
   "metadata": {},
   "outputs": [
    {
     "name": "stdout",
     "output_type": "stream",
     "text": [
      "CHI Primos:  71.9527311524 CHI Rutina:  10.2981505693\n"
     ]
    }
   ],
   "source": [
    "print(\"CHI Primos: \", chi_primos, \"CHI Rutina: \", chi_rutina)"
   ]
  },
  {
   "cell_type": "code",
   "execution_count": null,
   "metadata": {
    "collapsed": true
   },
   "outputs": [],
   "source": []
  }
 ],
 "metadata": {
  "kernelspec": {
   "display_name": "Python 2",
   "language": "python",
   "name": "python2"
  },
  "language_info": {
   "codemirror_mode": {
    "name": "ipython",
    "version": 2
   },
   "file_extension": ".py",
   "mimetype": "text/x-python",
   "name": "python",
   "nbconvert_exporter": "python",
   "pygments_lexer": "ipython2",
   "version": "2.7.13"
  }
 },
 "nbformat": 4,
 "nbformat_minor": 2
}
