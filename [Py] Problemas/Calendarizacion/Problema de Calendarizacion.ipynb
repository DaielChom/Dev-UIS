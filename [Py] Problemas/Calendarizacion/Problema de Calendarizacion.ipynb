{
 "cells": [
  {
   "cell_type": "markdown",
   "metadata": {},
   "source": [
    "Daniel Carvajal Patiño - 2132817\n",
    "\n",
    "# Problema de Calendarización\n",
    "## Sheduling: \n",
    "En español conocido común mente como planificador, es un componente funcional muy importante de los sistemas operativos multitarea y multiproceso, y es esencial en los sistemas operativos de tiempo real. Su función consiste en repartir el tiempo disponible de un microprocesador entre todos los procesos que están disponibles para su ejecución.\n",
    "Todo sistema operativo gestiona los programas mediante el concepto de proceso. En un instante dado, en el ordenador pueden existir diversos procesos listos para ser ejecutados. Sin embargo, solamente uno de ellos puede ser ejecutado (en cada microprocesador). De ahí la necesidad de que una parte del sistema operativo gestione, de una manera equitativa, qué proceso debe ejecutarse en cada momento para hacer un uso eficiente del procesador.\n",
    "\n",
    "Existen dos tipos de algoritmos de calendarización (políticas de planificación), expropiativos y no expropiativos. Los expropiativos asignan un tiempo de ejecución a cada proceso después del cual se calendariza otro proceso, hasta que cada proceso acabe su trabajo. También pueden expulsar a un proceso en ejecución si llega otro de mayor prioridad que necesita ejecutarse. Los no expropiativos permiten que se ejecute el proceso hasta que acabe su trabajo. Es decir, una vez les llega el turno de ejecutarse, no dejarán libre la CPU hasta que terminen o se bloqueen.\n",
    "## Tarea:\n",
    "Se plantea realizar la calendarización de 9 tareas en 3 máquinas, donde cada tarea tiene un tiempo de ejecución en cada máquina. Mediante el método de fuerza bruta encontrar el menor tiempo que gastarían las 3 máquinas en realizar las nueve tareas. El ejercicio se ilustra de la siguiente manera:\n",
    "\n",
    "![maquinas](images/maquinas.png)\n",
    "\n",
    "## Solución:\n",
    "\n"
   ]
  },
  {
   "cell_type": "code",
   "execution_count": 1,
   "metadata": {},
   "outputs": [
    {
     "data": {
      "text/plain": [
       "array([[ 1,  2,  3, ...,  7,  8,  9],\n",
       "       [ 1,  2,  3, ...,  7,  8, 18],\n",
       "       [ 1,  2,  3, ...,  7,  8, 27],\n",
       "       ..., \n",
       "       [19, 20, 21, ..., 25, 26,  9],\n",
       "       [19, 20, 21, ..., 25, 26, 18],\n",
       "       [19, 20, 21, ..., 25, 26, 27]])"
      ]
     },
     "execution_count": 1,
     "metadata": {},
     "output_type": "execute_result"
    }
   ],
   "source": [
    "import numpy as np\n",
    "\n",
    "lista = []\n",
    "\n",
    "\n",
    "# Se realiza 9 bucles, uno por tarea, cada uno de ellos de 3 valores.\n",
    "# De esta manera se toman todos los posibles arreglos de las nueve tareas\n",
    "# en las maquinas.\n",
    "\n",
    "for tarea_uno in [1,10,19]:\n",
    "    for tarea_dos in [2,11,20]:\n",
    "        for tarea_tres in [3,12,21]:\n",
    "            for tarea_cuatro in [4,13,22]:\n",
    "                for tarea_cinco in [5,14,23]:\n",
    "                    for tarea_seis in [6,15,24]:\n",
    "                        for tarea_siete in [7,16,25]:\n",
    "                            for tarea_ocho in [8,17,26]:\n",
    "                                for tarea_nueve in [9,18,27]:\n",
    "                                    lista.append([tarea_uno,tarea_dos,tarea_tres,tarea_cuatro,tarea_cinco,tarea_seis,tarea_siete,tarea_ocho,tarea_nueve])\n",
    "\n",
    "# Se guardan los posbiles arreglos en una lista\n",
    "lista_dos = np.array(lista)\n",
    "lista_dos"
   ]
  },
  {
   "cell_type": "markdown",
   "metadata": {},
   "source": [
    "Cada posicion de `lista_dos` representa el valor en tiempo de la tarea de dicha posicion."
   ]
  },
  {
   "cell_type": "code",
   "execution_count": 2,
   "metadata": {},
   "outputs": [
    {
     "name": "stdout",
     "output_type": "stream",
     "text": [
      "Total de arreglos:  19683\n"
     ]
    }
   ],
   "source": [
    "print(\"Total de arreglos: \", lista_dos.shape[0])"
   ]
  },
  {
   "cell_type": "code",
   "execution_count": 3,
   "metadata": {},
   "outputs": [
    {
     "name": "stdout",
     "output_type": "stream",
     "text": [
      "Por Ejemplo para el arreglo 689\n"
     ]
    }
   ],
   "source": [
    "Item = 689\n",
    "print(\"Por Ejemplo para el arreglo\", Item,)"
   ]
  },
  {
   "cell_type": "code",
   "execution_count": 47,
   "metadata": {},
   "outputs": [
    {
     "name": "stdout",
     "output_type": "stream",
     "text": [
      "Arreglo 689 : [ 1  2  3 22 23 15 16 17 27] \n",
      "Maquina Uno: [1 2 3] Tiempo:  6 \n",
      "Maquina Dos [15 16 17] Tiempo: 48 \n",
      "Maquina Tres: [22 23 27] Tiempo 72\n"
     ]
    }
   ],
   "source": [
    "print(\"Arreglo\", Item, \":\",lista_dos[Item],\"\\nMaquina Uno:\", lista_dos[Item][lista_dos[Item]<=9],\"Tiempo: \",sum(lista_dos[Item][lista_dos[Item]<=9]), \"\\nMaquina Dos\", lista_dos[Item][~np.array(lista_dos[Item]<=18) ^ np.array(lista_dos[Item]>=10)],\"Tiempo:\", sum(lista_dos[Item][~np.array(lista_dos[Item]<=18) ^ np.array(lista_dos[Item]>=10)]), \"\\nMaquina Tres:\",  lista_dos[Item][lista_dos[Item]>=19], \"Tiempo\", sum(lista_dos[Item][lista_dos[Item]>=19]))"
   ]
  },
  {
   "cell_type": "markdown",
   "metadata": {},
   "source": [
    "Entonces la tarea ahora es encontrar el tiempo que gastas las maquinas en cada uno de los posibles arreglos"
   ]
  },
  {
   "cell_type": "code",
   "execution_count": 44,
   "metadata": {
    "scrolled": true
   },
   "outputs": [],
   "source": [
    "maquinas = np.ones((19683, 3))\n",
    "for j, i in enumerate(lista_dos):\n",
    "    maquinas[j][0] = np.sum(i[i<=9])\n",
    "    maquinas[j][1] = np.sum(i[~np.array(i<=18) ^ np.array(i>=10)])\n",
    "    maquinas[j][2] = np.sum(i[i>=19]) "
   ]
  },
  {
   "cell_type": "code",
   "execution_count": 45,
   "metadata": {},
   "outputs": [
    {
     "data": {
      "text/plain": [
       "array([[  45.,    0.,    0.],\n",
       "       [  36.,   18.,    0.],\n",
       "       [  36.,    0.,   27.],\n",
       "       ..., \n",
       "       [   9.,    0.,  180.],\n",
       "       [   0.,   18.,  180.],\n",
       "       [   0.,    0.,  207.]])"
      ]
     },
     "execution_count": 45,
     "metadata": {},
     "output_type": "execute_result"
    }
   ],
   "source": [
    "maquinas"
   ]
  },
  {
   "cell_type": "code",
   "execution_count": 7,
   "metadata": {
    "collapsed": true
   },
   "outputs": [],
   "source": [
    "maquina_uno = [maquinas[i][0] for i in range(maquinas.shape[0])]\n",
    "maquina_dos = [maquinas[i][1] for i in range(maquinas.shape[0])]\n",
    "maquina_tres = [maquinas[i][2] for i in range(maquinas.shape[0])]"
   ]
  },
  {
   "cell_type": "code",
   "execution_count": 8,
   "metadata": {},
   "outputs": [],
   "source": [
    "import pandas as pd\n",
    "import matplotlib as plt\n",
    "%matplotlib inline \n",
    "series = pd.DataFrame({\"Maquina Uno\":maquina_uno, \"Maquina Dos\": maquina_dos, \"Maquina Tres\": maquina_tres }, columns=[\"Maquina Uno\", \"Maquina Dos\", \"Maquina Tres\"], index = range(maquinas.shape[0]))"
   ]
  },
  {
   "cell_type": "code",
   "execution_count": 13,
   "metadata": {},
   "outputs": [
    {
     "data": {
      "text/plain": [
       "(<matplotlib.axes._subplots.AxesSubplot at 0x20f6a83bb00>,\n",
       "    Maquina Uno  Maquina Dos  Maquina Tres\n",
       " 0         45.0          0.0           0.0\n",
       " 1         36.0         18.0           0.0\n",
       " 2         36.0          0.0          27.0\n",
       " 3         37.0         17.0           0.0\n",
       " 4         28.0         35.0           0.0)"
      ]
     },
     "execution_count": 13,
     "metadata": {},
     "output_type": "execute_result"
    },
    {
     "data": {
      "image/png": "[encoded data removed]",
      "text/plain": [
       "<matplotlib.figure.Figure at 0x20f6a865f60>"
      ]
     },
     "metadata": {},
     "output_type": "display_data"
    }
   ],
   "source": [
    "series.head().plot.bar(), series.head()"
   ]
  },
  {
   "cell_type": "markdown",
   "metadata": {},
   "source": [
    "Teniendo el tiempo de las maquinas ahora hasy que escoger el tiempo minimo de los tiempos maximas gastados por las maquinas en cada uno de los arreglos"
   ]
  },
  {
   "cell_type": "code",
   "execution_count": 14,
   "metadata": {},
   "outputs": [
    {
     "data": {
      "text/plain": [
       "27.0"
      ]
     },
     "execution_count": 14,
     "metadata": {},
     "output_type": "execute_result"
    }
   ],
   "source": [
    "maxs = []\n",
    "for i in maquinas:\n",
    "    maxs.append(i.max())\n",
    "min(maxs)"
   ]
  },
  {
   "cell_type": "code",
   "execution_count": 32,
   "metadata": {},
   "outputs": [],
   "source": [
    "mejores = [(j,i) for i,j in enumerate(maquinas) if j.max()==27 ]"
   ]
  },
  {
   "cell_type": "code",
   "execution_count": 38,
   "metadata": {},
   "outputs": [
    {
     "name": "stdout",
     "output_type": "stream",
     "text": [
      "Tiempo: [ 27.  27.  27.] Arreglo: 326\n",
      "Tiempo: [ 27.  27.  27.] Arreglo: 758\n",
      "Tiempo: [ 27.  27.  27.] Arreglo: 2198\n",
      "Tiempo: [ 27.  27.  27.] Arreglo: 6566\n"
     ]
    }
   ],
   "source": [
    "for i in mejores:\n",
    "    print(\"Tiempo:\", i[0], \"Arreglo:\", i[1])"
   ]
  },
  {
   "cell_type": "code",
   "execution_count": 63,
   "metadata": {},
   "outputs": [
    {
     "name": "stdout",
     "output_type": "stream",
     "text": [
      "Arreglo N°1: [ 1  2  3 13 14  6  7  8 27] \n",
      "Arrgelo N°2: [ 1  2 12  4  5 15  7  8 27] \n",
      "Arreglo N°3: [ 1 11  3  4  5  6 16  8 27] \n",
      "Arreglo N°4: [10  2  3  4  5  6  7 17 27]\n"
     ]
    }
   ],
   "source": [
    "print(\"Arreglo N°1:\", lista_dos[mejores[0][1]],\"\\nArrgelo N°2:\", lista_dos[mejores[1][1]], \"\\nArreglo N°3:\" ,lista_dos[mejores[2][1]],\"\\nArreglo N°4:\", lista_dos[mejores[3][1]])"
   ]
  },
  {
   "cell_type": "code",
   "execution_count": 94,
   "metadata": {},
   "outputs": [
    {
     "data": {
      "text/plain": [
       "(<matplotlib.axes._subplots.AxesSubplot at 0x20f6c107e10>,\n",
       " <matplotlib.axes._subplots.AxesSubplot at 0x20f6c1f2da0>)"
      ]
     },
     "execution_count": 94,
     "metadata": {},
     "output_type": "execute_result"
    },
    {
     "data": {
      "image/png": "[encoded data removed]",
      "text/plain": [
       "<matplotlib.figure.Figure at 0x20f6c10f5c0>"
      ]
     },
     "metadata": {},
     "output_type": "display_data"
    },
    {
     "data": {
      "image/png": "[encoded data removed]",
      "text/plain": [
       "<matplotlib.figure.Figure at 0x20f6c1b1b38>"
      ]
     },
     "metadata": {},
     "output_type": "display_data"
    }
   ],
   "source": [
    "series[324:329].plot.bar(), series[755:760].plot.bar()"
   ]
  }
 ],
 "metadata": {
  "kernelspec": {
   "display_name": "Python 2",
   "language": "python",
   "name": "python2"
  },
  "language_info": {
   "codemirror_mode": {
    "name": "ipython",
    "version": 2
   },
   "file_extension": ".py",
   "mimetype": "text/x-python",
   "name": "python",
   "nbconvert_exporter": "python",
   "pygments_lexer": "ipython2",
   "version": "2.7.13"
  }
 },
 "nbformat": 4,
 "nbformat_minor": 2
}
