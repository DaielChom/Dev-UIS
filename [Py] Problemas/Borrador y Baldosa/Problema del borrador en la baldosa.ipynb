{
 "cells": [
  {
   "cell_type": "markdown",
   "metadata": {},
   "source": [
    "# Problema: Borrador en la baldosa\n",
    "Se tiene un problema que consiste en hallar la probabilidad de que un borrador al ser lanzado al suelo, al caer, toque uno de los bordes de una baldosa, hay que tener en cuenta que este es una extensión al problema de la aguja de Buffon."
   ]
  },
  {
   "cell_type": "markdown",
   "metadata": {},
   "source": [
    "![esquema borrador](Borrador.png)"
   ]
  },
  {
   "cell_type": "code",
   "execution_count": 1,
   "metadata": {
    "collapsed": true
   },
   "outputs": [],
   "source": [
    "import random\n",
    "import math\n",
    "import numpy as np"
   ]
  },
  {
   "cell_type": "code",
   "execution_count": 2,
   "metadata": {
    "collapsed": true
   },
   "outputs": [],
   "source": [
    "# Variables de dimensiones:\n",
    "D = 25\n",
    "Lx = 8\n",
    "Ly = 4"
   ]
  },
  {
   "cell_type": "code",
   "execution_count": 6,
   "metadata": {
    "collapsed": true
   },
   "outputs": [],
   "source": [
    "# Variables de simulacion\n",
    "prob = 0\n",
    "intentos = 10000"
   ]
  },
  {
   "cell_type": "code",
   "execution_count": 7,
   "metadata": {},
   "outputs": [],
   "source": [
    "# Rutina simulacion\n",
    "for i in range(intentos):\n",
    "    \n",
    "    #centro y angulo del borrador aleatorio\n",
    "    x = random.random()*D\n",
    "    y = random.random()*D\n",
    "    θ = random.random()*np.pi\n",
    "    \n",
    "    #Trigonometria\n",
    "    h = np.sqrt((Lx/2)**2 + (Ly/2)**2)\n",
    "    centro = np.array([x, y]) \n",
    "    α = 2*math.asin(Ly/(2*h))\n",
    "    \n",
    "    # Calcula esquinas\n",
    "    p1 = centro + np.array([ h*math.cos(θ-α/2), h*math.sin(θ-α/2)])\n",
    "    p2 = centro - np.array([ h*math.sin((np.pi/2)-(θ+α/2)), h*math.cos((np.pi/2)-(θ+α/2))])\n",
    "    p3 = centro - np.array([ h*math.cos(θ-α/2), h*math.sin(θ-α/2)])\n",
    "    p4 = centro + np.array([ h*math.sin((np.pi/2)-(θ+α/2)), h*math.cos((np.pi/2)-(θ+α/2))])\n",
    "    \n",
    "    # Lista de esquinas\n",
    "    esquinas = np.array([p1, p2, p3, p4])\n",
    "    \n",
    "    # Conteo de asiertos\n",
    "    cont = 0\n",
    "    for esquina in esquinas:       \n",
    "        if cont == 0:\n",
    "            if sum(esquina > D) or sum(esquina < 0):\n",
    "                prob = prob + 1\n",
    "                cont = 1"
   ]
  },
  {
   "cell_type": "code",
   "execution_count": 8,
   "metadata": {},
   "outputs": [
    {
     "name": "stdout",
     "output_type": "stream",
     "text": [
      "La probabilidad es:  0.5139\n"
     ]
    }
   ],
   "source": [
    "print(\"La probabilidad es: \", prob/intentos)"
   ]
  },
  {
   "cell_type": "code",
   "execution_count": null,
   "metadata": {
    "collapsed": true
   },
   "outputs": [],
   "source": []
  }
 ],
 "metadata": {
  "kernelspec": {
   "display_name": "Python 2",
   "language": "python",
   "name": "python2"
  },
  "language_info": {
   "codemirror_mode": {
    "name": "ipython",
    "version": 2
   },
   "file_extension": ".py",
   "mimetype": "text/x-python",
   "name": "python",
   "nbconvert_exporter": "python",
   "pygments_lexer": "ipython2",
   "version": "2.7.13"
  }
 },
 "nbformat": 4,
 "nbformat_minor": 2
}
