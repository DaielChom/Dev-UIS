{
 "cells": [
  {
   "cell_type": "markdown",
   "metadata": {},
   "source": [
    "# Asignación de Horarios\n",
    "**Problemática:** Este problema se conoce como el problema de la asignación de horarios o de clases. El cual consiste en encontrar la manera en que una cantidad de estudiantes pueda ver las asignaturas que inscribió sin que estas se crucen entre sí.\n",
    "\n",
    "** Solución:** El problema puede solucionarse de distintas maneras. Se puede crear una solución usando teoría de grafos o algoritmos genéticos. En el trabajo actual se implementara una solución usando grafos y coloración de grafos, lo que se desea hacer es obtener un grafo en donde los nodos son asignaturas y la relación entre los nodos representa que un alumno está viendo ambas materias, una vez armado el grafo este se colorea. Una vez coloreado el grafo, por teoría podemos asegurar que las asignaturas con el mismo color pueden ser ubicadas en la misma franja horaria y no habrá problemas con los estudiantes. Teniendo esta información pueden crearse distintos horarios y no existirán problemas con los estudiantes."
   ]
  },
  {
   "cell_type": "code",
   "execution_count": 24,
   "metadata": {
    "collapsed": true
   },
   "outputs": [],
   "source": [
    "# Librerias\n",
    "import itertools"
   ]
  },
  {
   "cell_type": "code",
   "execution_count": 25,
   "metadata": {
    "collapsed": false
   },
   "outputs": [],
   "source": [
    "# CLASES ------------------------\n",
    "class Asignatura(object):\n",
    "   \n",
    "    def __init__(self, codigo, nombre):\n",
    "        self.codigo = codigo\n",
    "        self.nombre = nombre\n",
    "        self.color = 0\n",
    "    \n",
    "    def __str__(self):\n",
    "        return str(\"Codigo: {0}; Nombre: {1}\".format(self.codigo, self.nombre))\n",
    "    \n",
    "class Alumno(object):\n",
    "    \n",
    "    def __init__(self, nombre):\n",
    "        self.nombre = nombre\n",
    "        self.asignaturas = []\n",
    "        \n",
    "    def agregar_asignatura(self, asignatura):\n",
    "        self.asignaturas.append(asignatura)\n",
    "    \n",
    "    def __str__(self):\n",
    "        return str(\"Nombre: {0}, Asignaturas: {1}\".format(self.nombre, self.asignaturas) )\n",
    "      \n",
    "class Grafo:\n",
    "    def __init__(self):\n",
    "        self.relaciones = {}\n",
    "        self.nodos = []\n",
    "        \n",
    "    def __str__(self):\n",
    "        return str(self.relaciones)\n",
    " \n",
    "    def agregar(self, elemento):\n",
    "        self.relaciones.update({elemento:[]})\n",
    "        self.nodos.append(elemento)\n",
    "    \n",
    "    def relacionar(self, origen, destino):\n",
    "        self.relaciones[origen].append(destino)"
   ]
  },
  {
   "cell_type": "code",
   "execution_count": 26,
   "metadata": {
    "collapsed": false
   },
   "outputs": [],
   "source": [
    "# INSTANCIAS ---------------------------------\n",
    "\n",
    "# Asignaturas Primer Semestre\n",
    "asig1 = Asignatura(\"20252\",\"CALCULO I\")\n",
    "asig2 = Asignatura(\"22948\",\"FUNDAMENTOS DE PROGRAMACION\")\n",
    "asig3 = Asignatura(\"22949\",\"QUIMICA BASICA\")\n",
    "asig4 = Asignatura(\"22979\",\"ALGEBRA LINEAL I\")\n",
    "asig5 = Asignatura(\"23423\",\"CULTURA FISICA Y DEPORTIVA\")\n",
    "asig6 = Asignatura(\"23427\",\"TALLER DE LENGUAJE\")\n",
    "asig7 = Asignatura(\"24948\",\"VIDA Y CULTURA UNIVERSITARIA\")\n",
    "\n",
    "\n",
    "# Asignaturas Segundo Semestre\n",
    "asig8 = Asignatura(\"20252\",\"CALCULO II\")\n",
    "asig9 = Asignatura(\"22948\",\"ETICA CIUDADANA\")\n",
    "asig10 = Asignatura(\"22949\",\"FISICA I\")\n",
    "asig11 = Asignatura(\"22979\",\"PROGRAMACION ORIENTADA A OBJETOS\")\n",
    "asig12 = Asignatura(\"23423\",\"BIOLOGIA PARA INGENIEROS\")\n",
    "asig13 = Asignatura(\"23427\",\"INGLES I\")\n",
    "\n",
    "\n",
    "# Alumnos - Primer semestre\n",
    "alumno1 = Alumno(\"Andrea Manrique\")\n",
    "alumno1.agregar_asignatura(asig1)\n",
    "alumno1.agregar_asignatura(asig2)\n",
    "alumno1.agregar_asignatura(asig3)\n",
    "alumno1.agregar_asignatura(asig4)\n",
    "alumno1.agregar_asignatura(asig5)\n",
    "alumno1.agregar_asignatura(asig6)\n",
    "alumno1.agregar_asignatura(asig7)\n",
    "\n",
    "# Alumnos - Segundo semestre\n",
    "alumno2 = Alumno(\"Laura Garcia\")\n",
    "alumno2.agregar_asignatura(asig8)\n",
    "alumno2.agregar_asignatura(asig9)\n",
    "alumno2.agregar_asignatura(asig10)\n",
    "alumno2.agregar_asignatura(asig11)\n",
    "alumno2.agregar_asignatura(asig12)\n",
    "alumno2.agregar_asignatura(asig13)\n",
    "\n",
    "#Alumnos - segundiando materias, adelantando materias, etc.\n",
    "alumno3 = Alumno(\"Jose Villamizar\")\n",
    "alumno3.agregar_asignatura(asig1)\n",
    "alumno3.agregar_asignatura(asig4)\n",
    "alumno3.agregar_asignatura(asig6)\n",
    "alumno3.agregar_asignatura(asig11)\n",
    "alumno3.agregar_asignatura(asig13)\n",
    "\n",
    "alumno4 = Alumno(\"Jorge Lopez\")\n",
    "alumno4.agregar_asignatura(asig8)\n",
    "alumno4.agregar_asignatura(asig3)\n",
    "alumno4.agregar_asignatura(asig4)\n",
    "alumno4.agregar_asignatura(asig11)\n",
    "alumno4.agregar_asignatura(asig13)\n",
    "alumno4.agregar_asignatura(asig6)\n",
    "\n",
    "alumnos = [alumno1, alumno2, alumno3, alumno4]"
   ]
  },
  {
   "cell_type": "code",
   "execution_count": 27,
   "metadata": {
    "collapsed": false
   },
   "outputs": [
    {
     "data": {
      "text/plain": [
       "['CALCULO I',\n",
       " 'ALGEBRA LINEAL I',\n",
       " 'TALLER DE LENGUAJE',\n",
       " 'PROGRAMACION ORIENTADA A OBJETOS',\n",
       " 'INGLES I']"
      ]
     },
     "execution_count": 27,
     "metadata": {},
     "output_type": "execute_result"
    }
   ],
   "source": [
    "[i.nombre for i in alumno3.asignaturas]"
   ]
  },
  {
   "cell_type": "code",
   "execution_count": 28,
   "metadata": {
    "collapsed": false
   },
   "outputs": [],
   "source": [
    "relaciones_materias = [list(itertools.combinations([i for i in j.asignaturas],2)) for j in alumnos]"
   ]
  },
  {
   "cell_type": "code",
   "execution_count": 29,
   "metadata": {
    "collapsed": false
   },
   "outputs": [],
   "source": [
    "aux_relaciones = []\n",
    "for i in relaciones_materias:\n",
    "    for j in i:\n",
    "        aux_relaciones.append(j)"
   ]
  },
  {
   "cell_type": "code",
   "execution_count": 30,
   "metadata": {
    "collapsed": false
   },
   "outputs": [],
   "source": [
    "# INSTANCIA GRAFO - Agregando Aristas\n",
    "gf = Grafo()\n",
    "gf.agregar(asig1)\n",
    "gf.agregar(asig2)\n",
    "gf.agregar(asig3)\n",
    "gf.agregar(asig4)\n",
    "gf.agregar(asig5)\n",
    "gf.agregar(asig6)\n",
    "gf.agregar(asig7)\n",
    "gf.agregar(asig8)\n",
    "gf.agregar(asig9)\n",
    "gf.agregar(asig10)\n",
    "gf.agregar(asig11)\n",
    "gf.agregar(asig12)\n",
    "gf.agregar(asig13)\n",
    "\n",
    "# INSTANCIA GRAFO - Agregando Relaciones\n",
    "for i in aux_relaciones:\n",
    "    gf.relacionar(i[0],i[1])\n",
    "    gf.relacionar(i[1],i[0])"
   ]
  },
  {
   "cell_type": "code",
   "execution_count": 31,
   "metadata": {
    "collapsed": false
   },
   "outputs": [],
   "source": [
    "# COLOREO DEL GRAFO\n",
    "for i in gf.nodos:\n",
    "    for j in gf.relaciones[i]:\n",
    "        if i.color == j.color:\n",
    "            i.color+= 1 \n",
    "        \n"
   ]
  },
  {
   "cell_type": "code",
   "execution_count": 32,
   "metadata": {
    "collapsed": false
   },
   "outputs": [
    {
     "data": {
      "text/plain": [
       "[1, 1, 1, 2, 1, 3, 0, 4, 1, 1, 5, 1, 0]"
      ]
     },
     "execution_count": 32,
     "metadata": {},
     "output_type": "execute_result"
    }
   ],
   "source": [
    "[i.color for i in gf.nodos]"
   ]
  },
  {
   "cell_type": "code",
   "execution_count": 33,
   "metadata": {
    "collapsed": false
   },
   "outputs": [
    {
     "data": {
      "text/plain": [
       "5"
      ]
     },
     "execution_count": 33,
     "metadata": {},
     "output_type": "execute_result"
    }
   ],
   "source": [
    "color_maximo = max([i.color for i in gf.nodos])\n",
    "color_maximo"
   ]
  },
  {
   "cell_type": "code",
   "execution_count": 34,
   "metadata": {
    "collapsed": false
   },
   "outputs": [],
   "source": [
    "aux_hor = [[] for i in range(color_maximo+1)]\n",
    "for i in gf.nodos:\n",
    "    aux_hor[i.color].append(i)   "
   ]
  },
  {
   "cell_type": "code",
   "execution_count": 35,
   "metadata": {
    "collapsed": false,
    "scrolled": true
   },
   "outputs": [
    {
     "name": "stdout",
     "output_type": "stream",
     "text": [
      "Las Materias: \n",
      "VIDA Y CULTURA UNIVERSITARIA\n",
      "INGLES I\n",
      "se pueden ver juntas\n",
      "--------------------\n",
      "Las Materias: \n",
      "CALCULO I\n",
      "FUNDAMENTOS DE PROGRAMACION\n",
      "QUIMICA BASICA\n",
      "CULTURA FISICA Y DEPORTIVA\n",
      "ETICA CIUDADANA\n",
      "FISICA I\n",
      "BIOLOGIA PARA INGENIEROS\n",
      "se pueden ver juntas\n",
      "--------------------\n",
      "Las Materias: \n",
      "ALGEBRA LINEAL I\n",
      "se pueden ver juntas\n",
      "--------------------\n",
      "Las Materias: \n",
      "TALLER DE LENGUAJE\n",
      "se pueden ver juntas\n",
      "--------------------\n",
      "Las Materias: \n",
      "CALCULO II\n",
      "se pueden ver juntas\n",
      "--------------------\n",
      "Las Materias: \n",
      "PROGRAMACION ORIENTADA A OBJETOS\n",
      "se pueden ver juntas\n",
      "--------------------\n"
     ]
    }
   ],
   "source": [
    "for i in aux_hor:\n",
    "    print(\"Las Materias: \")\n",
    "    for j in i:\n",
    "        print(j.nombre)\n",
    "    print(\"se pueden ver juntas\")\n",
    "    print(\"--------------------\") "
   ]
  },
  {
   "cell_type": "markdown",
   "metadata": {},
   "source": [
    "Como se mencionó anteriormente conociendo que materias que se pueden ver en el mismo bloque se pueden crear distintos horarios de clase, teniendo información extra como lo son la cantidad de salones, la cantidad de grupos por materia, la disponibilidad de salones en ciertas franjas horarios, etc."
   ]
  }
 ],
 "metadata": {
  "anaconda-cloud": {},
  "kernelspec": {
   "display_name": "Python 3",
   "language": "python",
   "name": "python3"
  },
  "language_info": {
   "codemirror_mode": {
    "name": "ipython",
    "version": 3
   },
   "file_extension": ".py",
   "mimetype": "text/x-python",
   "name": "python",
   "nbconvert_exporter": "python",
   "pygments_lexer": "ipython3",
   "version": "3.6.0"
  }
 },
 "nbformat": 4,
 "nbformat_minor": 2
}
